{
 "cells": [
  {
   "cell_type": "code",
   "execution_count": 1,
   "metadata": {},
   "outputs": [],
   "source": [
    "import torch\n",
    "import pandas as pd\n",
    "import numpy as np\n",
    "\n",
    "from model import DSCNet\n",
    "from post_clustering import spectral_clustering"
   ]
  },
  {
   "cell_type": "code",
   "execution_count": 2,
   "metadata": {},
   "outputs": [],
   "source": [
    "NUM_SAMPLES = 1320\n",
    "SEQUENCE_LENGTH = 1000"
   ]
  },
  {
   "cell_type": "code",
   "execution_count": 3,
   "metadata": {},
   "outputs": [
    {
     "data": {
      "text/plain": [
       "DSCNet(\n",
       "  (ae): AutoEncoder(\n",
       "    (encoder): Sequential(\n",
       "      (input): Linear(in_features=1000, out_features=3, bias=True)\n",
       "      (linear1): Linear(in_features=3, out_features=3, bias=True)\n",
       "      (relu1): ReLU(inplace=True)\n",
       "      (linear2): Linear(in_features=3, out_features=5, bias=True)\n",
       "      (relu2): ReLU(inplace=True)\n",
       "    )\n",
       "    (decoder): Sequential(\n",
       "      (inv-linear1): Linear(in_features=5, out_features=3, bias=True)\n",
       "      (relud0): ReLU(inplace=True)\n",
       "      (inv-linear2): Linear(in_features=3, out_features=3, bias=True)\n",
       "      (relud1): ReLU(inplace=True)\n",
       "      (output): Linear(in_features=3, out_features=1000, bias=True)\n",
       "    )\n",
       "  )\n",
       "  (self_expression): SelfExpression()\n",
       ")"
      ]
     },
     "execution_count": 3,
     "metadata": {},
     "output_type": "execute_result"
    }
   ],
   "source": [
    "model = DSCNet(num_samples=NUM_SAMPLES, sequence_length=SEQUENCE_LENGTH, hidden_sizes=[3, 3, 5], )\n",
    "model"
   ]
  },
  {
   "cell_type": "code",
   "execution_count": 4,
   "metadata": {},
   "outputs": [],
   "source": [
    "# d = pd.read_csv(\"cryp.csv\")\n",
    "# X = np.array(d[\"rate\"].tolist())\n",
    "# y= np.array(d[\"label\"].tolist())\n",
    "# X_train = X[:3500]\n",
    "# y_train = y[:3500]\n",
    "# X_test = X[3500:]\n",
    "# y_test = y[3500:]\n",
    "# train_data= TimeseriesDataset(X_train,y_train)\n",
    "# train_present = X_train[3500:]\n",
    "# test_data= TimeseriesDataset(X_test,y_test)\n",
    "# # train_dataset = TimeseriesDataset(X_lstm, y_lstm, seq_len=4)\n",
    "# train_loader = torch.utils.data.DataLoader(train_data, batch_size = 32, shuffle = False)\n",
    "# test_loader = torch.utils.data.DataLoader(test_data, batch_size = 32, shuffle = False)"
   ]
  },
  {
   "cell_type": "code",
   "execution_count": 5,
   "metadata": {},
   "outputs": [],
   "source": [
    "inp = torch.randn(NUM_SAMPLES, SEQUENCE_LENGTH)\n",
    "out = torch.randn(NUM_SAMPLES, SEQUENCE_LENGTH)"
   ]
  },
  {
   "cell_type": "code",
   "execution_count": 6,
   "metadata": {},
   "outputs": [
    {
     "data": {
      "text/plain": [
       "(tensor([[-0.5258, -0.2553,  0.1561,  ..., -0.4746, -0.2253, -0.4536],\n",
       "         [-0.5258, -0.2553,  0.1561,  ..., -0.4746, -0.2253, -0.4536],\n",
       "         [-0.5258, -0.2553,  0.1561,  ..., -0.4746, -0.2253, -0.4536],\n",
       "         ...,\n",
       "         [-0.5258, -0.2553,  0.1561,  ..., -0.4746, -0.2253, -0.4536],\n",
       "         [-0.5258, -0.2553,  0.1561,  ..., -0.4746, -0.2253, -0.4536],\n",
       "         [-0.5258, -0.2553,  0.1561,  ..., -0.4746, -0.2253, -0.4536]],\n",
       "        grad_fn=<AddmmBackward0>),\n",
       " tensor([[0.1107, 0.2863, 0.0000, 0.0598, 0.4363],\n",
       "         [0.1110, 0.0000, 0.0000, 0.0000, 0.1958],\n",
       "         [0.1107, 0.2863, 0.0000, 0.0598, 0.4363],\n",
       "         ...,\n",
       "         [0.1107, 0.2863, 0.0000, 0.0598, 0.4363],\n",
       "         [0.1110, 0.0000, 0.0000, 0.0000, 0.1914],\n",
       "         [0.1109, 0.0697, 0.0000, 0.0000, 0.2747]], grad_fn=<ViewBackward0>),\n",
       " tensor([[1.5820e-06, 1.8504e-06, 4.8216e-09, 2.3232e-07, 3.9851e-06],\n",
       "         [1.5820e-06, 1.8504e-06, 4.8216e-09, 2.3232e-07, 3.9851e-06],\n",
       "         [1.5820e-06, 1.8504e-06, 4.8216e-09, 2.3232e-07, 3.9851e-06],\n",
       "         ...,\n",
       "         [1.5820e-06, 1.8504e-06, 4.8216e-09, 2.3232e-07, 3.9851e-06],\n",
       "         [1.5820e-06, 1.8504e-06, 4.8216e-09, 2.3232e-07, 3.9851e-06],\n",
       "         [1.5820e-06, 1.8504e-06, 4.8216e-09, 2.3232e-07, 3.9851e-06]],\n",
       "        grad_fn=<MmBackward0>))"
      ]
     },
     "execution_count": 6,
     "metadata": {},
     "output_type": "execute_result"
    }
   ],
   "source": [
    "model(inp)"
   ]
  },
  {
   "cell_type": "code",
   "execution_count": 7,
   "metadata": {},
   "outputs": [
    {
     "data": {
      "text/plain": [
       "torch.Size([1320, 1320])"
      ]
     },
     "execution_count": 7,
     "metadata": {},
     "output_type": "execute_result"
    }
   ],
   "source": [
    "model.self_expression.Coefficient.shape"
   ]
  },
  {
   "cell_type": "code",
   "execution_count": 8,
   "metadata": {},
   "outputs": [],
   "source": [
    "K = 3\n",
    "alpha=0.04\n",
    "dim_subspace=12\n",
    "ro=8\n",
    "C = model.self_expression.Coefficient.detach().to(\"cpu\").numpy()\n",
    "y_pred = spectral_clustering(C, K, dim_subspace, alpha, ro)"
   ]
  },
  {
   "cell_type": "code",
   "execution_count": 9,
   "metadata": {},
   "outputs": [
    {
     "data": {
      "text/plain": [
       "(1320,)"
      ]
     },
     "execution_count": 9,
     "metadata": {},
     "output_type": "execute_result"
    }
   ],
   "source": [
    "y_pred.shape"
   ]
  },
  {
   "cell_type": "code",
   "execution_count": 10,
   "metadata": {},
   "outputs": [
    {
     "data": {
      "text/plain": [
       "array([2, 0, 0, ..., 0, 1, 0])"
      ]
     },
     "execution_count": 10,
     "metadata": {},
     "output_type": "execute_result"
    }
   ],
   "source": [
    "y_pred"
   ]
  },
  {
   "cell_type": "code",
   "execution_count": null,
   "metadata": {},
   "outputs": [],
   "source": []
  }
 ],
 "metadata": {
  "interpreter": {
   "hash": "5c7e17e36ef12e3bb1fd00fcbe84f8149e754c9372c6afa356320b10f3d0773c"
  },
  "kernelspec": {
   "display_name": "Python 3.9.11 ('base')",
   "language": "python",
   "name": "python3"
  },
  "language_info": {
   "codemirror_mode": {
    "name": "ipython",
    "version": 3
   },
   "file_extension": ".py",
   "mimetype": "text/x-python",
   "name": "python",
   "nbconvert_exporter": "python",
   "pygments_lexer": "ipython3",
   "version": "3.9.12"
  },
  "orig_nbformat": 4
 },
 "nbformat": 4,
 "nbformat_minor": 2
}
