{
 "cells": [
  {
   "cell_type": "code",
   "execution_count": 1,
   "metadata": {},
   "outputs": [],
   "source": [
    "import torch\n",
    "import pandas as pd\n",
    "import numpy as np\n",
    "\n",
    "from model import DSCNet\n",
    "from post_clustering import spectral_clustering"
   ]
  },
  {
   "cell_type": "code",
   "execution_count": 2,
   "metadata": {},
   "outputs": [],
   "source": [
    "NUM_SAMPLES = 1000\n",
    "NUM_FEATURES = 3"
   ]
  },
  {
   "cell_type": "code",
   "execution_count": 3,
   "metadata": {},
   "outputs": [
    {
     "data": {
      "text/plain": [
       "DSCNet(\n",
       "  (ae): LinearAE(\n",
       "    (encoder): Sequential(\n",
       "      (linear1): Linear(in_features=3, out_features=3, bias=True)\n",
       "      (relu1): ReLU(inplace=True)\n",
       "      (linear2): Linear(in_features=3, out_features=3, bias=True)\n",
       "      (relu2): ReLU(inplace=True)\n",
       "      (linear3): Linear(in_features=3, out_features=5, bias=True)\n",
       "      (relu3): ReLU(inplace=True)\n",
       "    )\n",
       "    (decoder): Sequential(\n",
       "      (inv-linear1): Linear(in_features=5, out_features=3, bias=True)\n",
       "      (relud0): ReLU(inplace=True)\n",
       "      (inv-linear2): Linear(in_features=3, out_features=3, bias=True)\n",
       "      (relud1): ReLU(inplace=True)\n",
       "      (inv-linear3): Linear(in_features=3, out_features=3, bias=True)\n",
       "      (relud2): ReLU(inplace=True)\n",
       "    )\n",
       "  )\n",
       "  (self_expression): SelfExpression()\n",
       ")"
      ]
     },
     "execution_count": 3,
     "metadata": {},
     "output_type": "execute_result"
    }
   ],
   "source": [
    "model = DSCNet(channels=[NUM_FEATURES, 3, 3, 5], kernels=[3, 3, 3], num_sample=NUM_SAMPLES)\n",
    "model"
   ]
  },
  {
   "cell_type": "code",
   "execution_count": 4,
   "metadata": {},
   "outputs": [],
   "source": [
    "# d = pd.read_csv(\"cryp.csv\")\n",
    "# X = np.array(d[\"rate\"].tolist())\n",
    "# y= np.array(d[\"label\"].tolist())\n",
    "# X_train = X[:3500]\n",
    "# y_train = y[:3500]\n",
    "# X_test = X[3500:]\n",
    "# y_test = y[3500:]\n",
    "# train_data= TimeseriesDataset(X_train,y_train)\n",
    "# train_present = X_train[3500:]\n",
    "# test_data= TimeseriesDataset(X_test,y_test)\n",
    "# # train_dataset = TimeseriesDataset(X_lstm, y_lstm, seq_len=4)\n",
    "# train_loader = torch.utils.data.DataLoader(train_data, batch_size = 32, shuffle = False)\n",
    "# test_loader = torch.utils.data.DataLoader(test_data, batch_size = 32, shuffle = False)"
   ]
  },
  {
   "cell_type": "code",
   "execution_count": 5,
   "metadata": {},
   "outputs": [],
   "source": [
    "inp = torch.randn(NUM_SAMPLES, NUM_FEATURES)\n",
    "out = torch.randn(NUM_SAMPLES, NUM_FEATURES)"
   ]
  },
  {
   "cell_type": "code",
   "execution_count": 6,
   "metadata": {},
   "outputs": [
    {
     "data": {
      "text/plain": [
       "(tensor([[0.0000, 0.3925, 0.0000],\n",
       "         [0.0000, 0.3925, 0.0000],\n",
       "         [0.0000, 0.3925, 0.0000],\n",
       "         ...,\n",
       "         [0.0000, 0.3925, 0.0000],\n",
       "         [0.0000, 0.3925, 0.0000],\n",
       "         [0.0000, 0.3925, 0.0000]], grad_fn=<ReluBackward0>),\n",
       " tensor([[0.0000, 0.1190, 0.0000, 0.5931, 0.1819],\n",
       "         [0.0000, 0.1510, 0.0000, 0.4988, 0.0282],\n",
       "         [0.0000, 0.2045, 0.0000, 0.5986, 0.2057],\n",
       "         ...,\n",
       "         [0.0000, 0.1693, 0.0000, 0.5328, 0.0886],\n",
       "         [0.0000, 0.1170, 0.0000, 0.5171, 0.0533],\n",
       "         [0.0000, 0.1897, 0.0000, 0.5826, 0.1762]], grad_fn=<ViewBackward0>),\n",
       " tensor([[0.0000e+00, 1.5517e-06, 0.0000e+00, 5.2877e-06, 7.9492e-07],\n",
       "         [0.0000e+00, 1.5517e-06, 0.0000e+00, 5.2877e-06, 7.9492e-07],\n",
       "         [0.0000e+00, 1.5517e-06, 0.0000e+00, 5.2877e-06, 7.9492e-07],\n",
       "         ...,\n",
       "         [0.0000e+00, 1.5517e-06, 0.0000e+00, 5.2877e-06, 7.9492e-07],\n",
       "         [0.0000e+00, 1.5517e-06, 0.0000e+00, 5.2877e-06, 7.9492e-07],\n",
       "         [0.0000e+00, 1.5517e-06, 0.0000e+00, 5.2877e-06, 7.9492e-07]],\n",
       "        grad_fn=<MmBackward0>))"
      ]
     },
     "execution_count": 6,
     "metadata": {},
     "output_type": "execute_result"
    }
   ],
   "source": [
    "model(inp)"
   ]
  },
  {
   "cell_type": "code",
   "execution_count": 7,
   "metadata": {},
   "outputs": [
    {
     "data": {
      "text/plain": [
       "torch.Size([1000, 1000])"
      ]
     },
     "execution_count": 7,
     "metadata": {},
     "output_type": "execute_result"
    }
   ],
   "source": [
    "model.self_expression.Coefficient.shape"
   ]
  },
  {
   "cell_type": "code",
   "execution_count": 8,
   "metadata": {},
   "outputs": [],
   "source": [
    "K = 2\n",
    "alpha=0.04\n",
    "dim_subspace=12\n",
    "ro=8\n",
    "C = model.self_expression.Coefficient.detach().to(\"cpu\").numpy()\n",
    "y_pred = spectral_clustering(C, K, dim_subspace, alpha, ro)"
   ]
  },
  {
   "cell_type": "code",
   "execution_count": 10,
   "metadata": {},
   "outputs": [
    {
     "data": {
      "text/plain": [
       "(1000,)"
      ]
     },
     "execution_count": 10,
     "metadata": {},
     "output_type": "execute_result"
    }
   ],
   "source": [
    "y_pred.shape"
   ]
  }
 ],
 "metadata": {
  "interpreter": {
   "hash": "5c7e17e36ef12e3bb1fd00fcbe84f8149e754c9372c6afa356320b10f3d0773c"
  },
  "kernelspec": {
   "display_name": "Python 3.9.11 ('base')",
   "language": "python",
   "name": "python3"
  },
  "language_info": {
   "codemirror_mode": {
    "name": "ipython",
    "version": 3
   },
   "file_extension": ".py",
   "mimetype": "text/x-python",
   "name": "python",
   "nbconvert_exporter": "python",
   "pygments_lexer": "ipython3",
   "version": "3.9.12"
  },
  "orig_nbformat": 4
 },
 "nbformat": 4,
 "nbformat_minor": 2
}
